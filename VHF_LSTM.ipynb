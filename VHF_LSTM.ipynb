{
 "cells": [
  {
   "cell_type": "code",
   "execution_count": 423,
   "id": "fcef4ec9",
   "metadata": {},
   "outputs": [],
   "source": [
    "# Import necessary libraries\n",
    "import pandas as pd\n",
    "import numpy as np\n",
    "import matplotlib.pyplot as plt\n",
    "from sklearn.preprocessing import MinMaxScaler, LabelEncoder\n",
    "from tensorflow.keras.models import Sequential\n",
    "from tensorflow.keras.layers import LSTM, Dense, Dropout, Input\n",
    "from sklearn.metrics import mean_squared_error, accuracy_score, classification_report"
   ]
  },
  {
   "cell_type": "code",
   "execution_count": 424,
   "id": "68828e0f",
   "metadata": {},
   "outputs": [],
   "source": [
    "# Load the datasets\n",
    "epidemiological_data = pd.read_spss('/Users/m1/Downloads/data/VHF/Lassa Fever_Dataset_NCDC.sav')\n",
    "climatic_data = pd.read_csv('/Users/m1/Downloads/data/VHF/main_nasa_power_climatic_data_VHF 2.csv')\n",
    "mobility_data = pd.read_csv('/Users/m1/Downloads/data/VHF/2020-2022_NG_Region_Mobility_Report.csv')\n"
   ]
  },
  {
   "cell_type": "code",
   "execution_count": 425,
   "id": "1b885dbd",
   "metadata": {},
   "outputs": [],
   "source": [
    "# Convert the date columns to datetime format for all datasets\n",
    "epidemiological_data['date_symptom_onset2'] = pd.to_datetime(epidemiological_data['date_symptom_onset2'], errors='coerce')\n",
    "climatic_data['date'] = pd.to_datetime(climatic_data['date'], format='%Y%m%d', errors='coerce')\n",
    "# Explicitly specify the format for mobility data if it's in DD/MM/YYYY format\n",
    "mobility_data['date'] = pd.to_datetime(mobility_data['date'], format='%d/%m/%Y', errors='coerce')"
   ]
  },
  {
   "cell_type": "code",
   "execution_count": 426,
   "id": "114211a9",
   "metadata": {},
   "outputs": [],
   "source": [
    "# Select relevant columns for merging (with added climate and mobility variables)\n",
    "epidemiological_data_relevant = epidemiological_data[[\n",
    "    'Stateofresidence_updated', 'date_symptom_onset2', 'case_classification_recode', \n",
    "    'age_recode', 'sex_new2', 'pregnancy_new', 'contact_with_source_case_new', \n",
    "    'direct_contact_probable_case', 'rodents_excreta', 'fever_new'\n",
    "]].copy()\n",
    "\n",
    "climatic_data_relevant = climatic_data[['state', 'date', 'temperature', 'humidity', 'precipitation', \n",
    "                                        'wind_speed', 'solar_radiation', 'surface_pressure', 'dew_point']].copy()\n",
    "\n",
    "mobility_data_relevant = mobility_data[['sub_region_1', 'date', 'workplaces_percent_change_from_baseline', \n",
    "                                        'residential_percent_change_from_baseline', 'transit_stations_percent_change_from_baseline', \n",
    "                                        'retail_and_recreation_percent_change_from_baseline', \n",
    "                                        'grocery_and_pharmacy_percent_change_from_baseline', 'parks_percent_change_from_baseline']].copy()"
   ]
  },
  {
   "cell_type": "code",
   "execution_count": 427,
   "id": "f7d2e110",
   "metadata": {},
   "outputs": [],
   "source": [
    "#Handling missing values\n",
    "epidemiological_data_relevant['date_symptom_onset2'].fillna(method='ffill', inplace=True)  # Forward fill\n",
    "epidemiological_data_relevant['sex_new2'].fillna('Unknown', inplace=True)\n"
   ]
  },
  {
   "cell_type": "code",
   "execution_count": 428,
   "id": "80b4e91f",
   "metadata": {},
   "outputs": [],
   "source": [
    "# Rename columns for merging consistency\n",
    "epidemiological_data_relevant.rename(columns={'Stateofresidence_updated': 'state', 'date_symptom_onset2': 'date' }, inplace=True)\n",
    "mobility_data_relevant.rename(columns={'sub_region_1': 'state'}, inplace=True)\n",
    "\n",
    "# Merging datasets based on 'state' and 'date'\n",
    "combined_data = epidemiological_data_relevant.merge(climatic_data_relevant, on=['state', 'date'], how='left')\n",
    "combined_data = combined_data.merge(mobility_data_relevant, on=['state', 'date'], how='left')"
   ]
  },
  {
   "cell_type": "code",
   "execution_count": 429,
   "id": "2bb1d2bf",
   "metadata": {},
   "outputs": [
    {
     "data": {
      "text/html": [
       "<div>\n",
       "<style scoped>\n",
       "    .dataframe tbody tr th:only-of-type {\n",
       "        vertical-align: middle;\n",
       "    }\n",
       "\n",
       "    .dataframe tbody tr th {\n",
       "        vertical-align: top;\n",
       "    }\n",
       "\n",
       "    .dataframe thead th {\n",
       "        text-align: right;\n",
       "    }\n",
       "</style>\n",
       "<table border=\"1\" class=\"dataframe\">\n",
       "  <thead>\n",
       "    <tr style=\"text-align: right;\">\n",
       "      <th></th>\n",
       "      <th>state</th>\n",
       "      <th>date</th>\n",
       "      <th>case_classification_recode</th>\n",
       "      <th>age_recode</th>\n",
       "      <th>sex_new2</th>\n",
       "      <th>pregnancy_new</th>\n",
       "      <th>contact_with_source_case_new</th>\n",
       "      <th>direct_contact_probable_case</th>\n",
       "      <th>rodents_excreta</th>\n",
       "      <th>fever_new</th>\n",
       "      <th>...</th>\n",
       "      <th>wind_speed</th>\n",
       "      <th>solar_radiation</th>\n",
       "      <th>surface_pressure</th>\n",
       "      <th>dew_point</th>\n",
       "      <th>workplaces_percent_change_from_baseline</th>\n",
       "      <th>residential_percent_change_from_baseline</th>\n",
       "      <th>transit_stations_percent_change_from_baseline</th>\n",
       "      <th>retail_and_recreation_percent_change_from_baseline</th>\n",
       "      <th>grocery_and_pharmacy_percent_change_from_baseline</th>\n",
       "      <th>parks_percent_change_from_baseline</th>\n",
       "    </tr>\n",
       "  </thead>\n",
       "  <tbody>\n",
       "    <tr>\n",
       "      <th>62903</th>\n",
       "      <td>Ondo</td>\n",
       "      <td>2017-12-28</td>\n",
       "      <td>positive</td>\n",
       "      <td>32</td>\n",
       "      <td>2.0</td>\n",
       "      <td>NaN</td>\n",
       "      <td>NaN</td>\n",
       "      <td>NaN</td>\n",
       "      <td>NaN</td>\n",
       "      <td>Yes</td>\n",
       "      <td>...</td>\n",
       "      <td>2.38</td>\n",
       "      <td>4.46</td>\n",
       "      <td>96.75</td>\n",
       "      <td>15.58</td>\n",
       "      <td>NaN</td>\n",
       "      <td>NaN</td>\n",
       "      <td>NaN</td>\n",
       "      <td>NaN</td>\n",
       "      <td>NaN</td>\n",
       "      <td>NaN</td>\n",
       "    </tr>\n",
       "    <tr>\n",
       "      <th>62904</th>\n",
       "      <td>Taraba</td>\n",
       "      <td>2017-12-30</td>\n",
       "      <td>positive</td>\n",
       "      <td>18</td>\n",
       "      <td>1.0</td>\n",
       "      <td>NaN</td>\n",
       "      <td>NaN</td>\n",
       "      <td>NaN</td>\n",
       "      <td>NaN</td>\n",
       "      <td>Yes</td>\n",
       "      <td>...</td>\n",
       "      <td>4.75</td>\n",
       "      <td>6.06</td>\n",
       "      <td>98.35</td>\n",
       "      <td>6.41</td>\n",
       "      <td>NaN</td>\n",
       "      <td>NaN</td>\n",
       "      <td>NaN</td>\n",
       "      <td>NaN</td>\n",
       "      <td>NaN</td>\n",
       "      <td>NaN</td>\n",
       "    </tr>\n",
       "    <tr>\n",
       "      <th>62905</th>\n",
       "      <td>Taraba</td>\n",
       "      <td>2017-12-28</td>\n",
       "      <td>positive</td>\n",
       "      <td>16</td>\n",
       "      <td>2.0</td>\n",
       "      <td>NaN</td>\n",
       "      <td>NaN</td>\n",
       "      <td>NaN</td>\n",
       "      <td>NaN</td>\n",
       "      <td>Yes</td>\n",
       "      <td>...</td>\n",
       "      <td>3.87</td>\n",
       "      <td>5.74</td>\n",
       "      <td>98.16</td>\n",
       "      <td>7.05</td>\n",
       "      <td>NaN</td>\n",
       "      <td>NaN</td>\n",
       "      <td>NaN</td>\n",
       "      <td>NaN</td>\n",
       "      <td>NaN</td>\n",
       "      <td>NaN</td>\n",
       "    </tr>\n",
       "    <tr>\n",
       "      <th>62906</th>\n",
       "      <td>Taraba</td>\n",
       "      <td>2020-03-27</td>\n",
       "      <td>negative</td>\n",
       "      <td>45</td>\n",
       "      <td>2.0</td>\n",
       "      <td>NaN</td>\n",
       "      <td>NaN</td>\n",
       "      <td>NaN</td>\n",
       "      <td>NaN</td>\n",
       "      <td>Yes</td>\n",
       "      <td>...</td>\n",
       "      <td>2.91</td>\n",
       "      <td>5.48</td>\n",
       "      <td>97.93</td>\n",
       "      <td>18.51</td>\n",
       "      <td>-10.0</td>\n",
       "      <td>NaN</td>\n",
       "      <td>NaN</td>\n",
       "      <td>16.0</td>\n",
       "      <td>NaN</td>\n",
       "      <td>NaN</td>\n",
       "    </tr>\n",
       "    <tr>\n",
       "      <th>62907</th>\n",
       "      <td>Taraba</td>\n",
       "      <td>2020-03-27</td>\n",
       "      <td>negative</td>\n",
       "      <td>45</td>\n",
       "      <td>2.0</td>\n",
       "      <td>NaN</td>\n",
       "      <td>NaN</td>\n",
       "      <td>NaN</td>\n",
       "      <td>NaN</td>\n",
       "      <td>Yes</td>\n",
       "      <td>...</td>\n",
       "      <td>2.91</td>\n",
       "      <td>5.48</td>\n",
       "      <td>97.93</td>\n",
       "      <td>18.51</td>\n",
       "      <td>-13.0</td>\n",
       "      <td>NaN</td>\n",
       "      <td>NaN</td>\n",
       "      <td>NaN</td>\n",
       "      <td>NaN</td>\n",
       "      <td>NaN</td>\n",
       "    </tr>\n",
       "  </tbody>\n",
       "</table>\n",
       "<p>5 rows × 23 columns</p>\n",
       "</div>"
      ],
      "text/plain": [
       "        state       date case_classification_recode age_recode sex_new2  \\\n",
       "62903    Ondo 2017-12-28                   positive         32      2.0   \n",
       "62904  Taraba 2017-12-30                   positive         18      1.0   \n",
       "62905  Taraba 2017-12-28                   positive         16      2.0   \n",
       "62906  Taraba 2020-03-27                   negative         45      2.0   \n",
       "62907  Taraba 2020-03-27                   negative         45      2.0   \n",
       "\n",
       "      pregnancy_new contact_with_source_case_new direct_contact_probable_case  \\\n",
       "62903           NaN                          NaN                          NaN   \n",
       "62904           NaN                          NaN                          NaN   \n",
       "62905           NaN                          NaN                          NaN   \n",
       "62906           NaN                          NaN                          NaN   \n",
       "62907           NaN                          NaN                          NaN   \n",
       "\n",
       "      rodents_excreta fever_new  ...  wind_speed  solar_radiation  \\\n",
       "62903             NaN       Yes  ...        2.38             4.46   \n",
       "62904             NaN       Yes  ...        4.75             6.06   \n",
       "62905             NaN       Yes  ...        3.87             5.74   \n",
       "62906             NaN       Yes  ...        2.91             5.48   \n",
       "62907             NaN       Yes  ...        2.91             5.48   \n",
       "\n",
       "       surface_pressure  dew_point  workplaces_percent_change_from_baseline  \\\n",
       "62903             96.75      15.58                                      NaN   \n",
       "62904             98.35       6.41                                      NaN   \n",
       "62905             98.16       7.05                                      NaN   \n",
       "62906             97.93      18.51                                    -10.0   \n",
       "62907             97.93      18.51                                    -13.0   \n",
       "\n",
       "       residential_percent_change_from_baseline  \\\n",
       "62903                                       NaN   \n",
       "62904                                       NaN   \n",
       "62905                                       NaN   \n",
       "62906                                       NaN   \n",
       "62907                                       NaN   \n",
       "\n",
       "       transit_stations_percent_change_from_baseline  \\\n",
       "62903                                            NaN   \n",
       "62904                                            NaN   \n",
       "62905                                            NaN   \n",
       "62906                                            NaN   \n",
       "62907                                            NaN   \n",
       "\n",
       "       retail_and_recreation_percent_change_from_baseline  \\\n",
       "62903                                                NaN    \n",
       "62904                                                NaN    \n",
       "62905                                                NaN    \n",
       "62906                                               16.0    \n",
       "62907                                                NaN    \n",
       "\n",
       "       grocery_and_pharmacy_percent_change_from_baseline  \\\n",
       "62903                                                NaN   \n",
       "62904                                                NaN   \n",
       "62905                                                NaN   \n",
       "62906                                                NaN   \n",
       "62907                                                NaN   \n",
       "\n",
       "       parks_percent_change_from_baseline  \n",
       "62903                                 NaN  \n",
       "62904                                 NaN  \n",
       "62905                                 NaN  \n",
       "62906                                 NaN  \n",
       "62907                                 NaN  \n",
       "\n",
       "[5 rows x 23 columns]"
      ]
     },
     "execution_count": 429,
     "metadata": {},
     "output_type": "execute_result"
    }
   ],
   "source": [
    "combined_data.tail()"
   ]
  },
  {
   "cell_type": "code",
   "execution_count": 430,
   "id": "ffa17ed2",
   "metadata": {},
   "outputs": [
    {
     "name": "stdout",
     "output_type": "stream",
     "text": [
      "(62908, 23)\n"
     ]
    }
   ],
   "source": [
    "print(combined_data.shape)"
   ]
  },
  {
   "cell_type": "code",
   "execution_count": 431,
   "id": "3d8fa835",
   "metadata": {},
   "outputs": [
    {
     "name": "stdout",
     "output_type": "stream",
     "text": [
      "state                                                     0\n",
      "date                                                      0\n",
      "case_classification_recode                               68\n",
      "age_recode                                                0\n",
      "sex_new2                                                  0\n",
      "pregnancy_new                                         54367\n",
      "contact_with_source_case_new                          49429\n",
      "direct_contact_probable_case                          27370\n",
      "rodents_excreta                                       27202\n",
      "fever_new                                              5884\n",
      "temperature                                             180\n",
      "humidity                                                180\n",
      "precipitation                                           180\n",
      "wind_speed                                              180\n",
      "solar_radiation                                         180\n",
      "surface_pressure                                        180\n",
      "dew_point                                               180\n",
      "workplaces_percent_change_from_baseline               11787\n",
      "residential_percent_change_from_baseline              37691\n",
      "transit_stations_percent_change_from_baseline         38222\n",
      "retail_and_recreation_percent_change_from_baseline    41712\n",
      "grocery_and_pharmacy_percent_change_from_baseline     42145\n",
      "parks_percent_change_from_baseline                    52787\n",
      "dtype: int64\n"
     ]
    }
   ],
   "source": [
    "# Check for missing values in each column\n",
    "print(combined_data.isnull().sum())"
   ]
  },
  {
   "cell_type": "code",
   "execution_count": 432,
   "id": "91a47ec5",
   "metadata": {},
   "outputs": [
    {
     "name": "stdout",
     "output_type": "stream",
     "text": [
      "state                                                 0\n",
      "date                                                  0\n",
      "case_classification_recode                            0\n",
      "age_recode                                            0\n",
      "sex_new2                                              0\n",
      "pregnancy_new                                         0\n",
      "contact_with_source_case_new                          0\n",
      "direct_contact_probable_case                          0\n",
      "rodents_excreta                                       0\n",
      "fever_new                                             0\n",
      "temperature                                           0\n",
      "humidity                                              0\n",
      "precipitation                                         0\n",
      "wind_speed                                            0\n",
      "solar_radiation                                       0\n",
      "surface_pressure                                      0\n",
      "dew_point                                             0\n",
      "workplaces_percent_change_from_baseline               0\n",
      "residential_percent_change_from_baseline              0\n",
      "transit_stations_percent_change_from_baseline         0\n",
      "retail_and_recreation_percent_change_from_baseline    0\n",
      "grocery_and_pharmacy_percent_change_from_baseline     0\n",
      "parks_percent_change_from_baseline                    0\n",
      "dtype: int64\n"
     ]
    }
   ],
   "source": [
    "# Impute missing values in 'pregnancy_new' with the mode\n",
    "combined_data['pregnancy_new'].fillna(combined_data['pregnancy_new'].mode()[0], inplace=True)\n",
    "\n",
    "# Impute missing values in 'pregnancy_new' with the mode\n",
    "combined_data['case_classification_recode'].fillna(combined_data['case_classification_recode'].mode()[0], inplace=True)\n",
    "\n",
    "# Impute missing values in 'direct_contact_probable_case' with \"NO\"\n",
    "combined_data['direct_contact_probable_case'].fillna('UNKNOWN', inplace=True)\n",
    "\n",
    "# Add 'UNKNOWN' as a new category to the categorical column\n",
    "combined_data['contact_with_source_case_new'] = combined_data['contact_with_source_case_new'].cat.add_categories(['UNKNOWN'])\n",
    "\n",
    "# Now fill missing values with 'UNKNOWN'\n",
    "combined_data['contact_with_source_case_new'].fillna('UNKNOWN', inplace=True)\n",
    "\n",
    "# Impute missing values in 'rodents_excreta' with \"NO\"\n",
    "combined_data['rodents_excreta'].fillna('UNKNOWN', inplace=True)\n",
    "\n",
    "# Impute missing values in 'workplaces_percent_change_from_baseline' with the mean\n",
    "combined_data['workplaces_percent_change_from_baseline'].fillna(combined_data['workplaces_percent_change_from_baseline'].mean(), inplace=True)\n",
    "\n",
    "# Impute missing values in 'residential_percent_change_from_baseline' with the mean\n",
    "combined_data['residential_percent_change_from_baseline'].fillna(combined_data['residential_percent_change_from_baseline'].mean(), inplace=True)\n",
    "\n",
    "# Impute missing values in 'transit_stations_percent_change_from_baseline' with the mean\n",
    "combined_data['transit_stations_percent_change_from_baseline'].fillna(combined_data['transit_stations_percent_change_from_baseline'].mean(), inplace=True)\n",
    "\n",
    "# Impute missing values in 'transit_stations_percent_change_from_baseline' with the mean\n",
    "combined_data['retail_and_recreation_percent_change_from_baseline'].fillna(combined_data['retail_and_recreation_percent_change_from_baseline'].mean(), inplace=True)\n",
    "\n",
    "# Impute missing values in 'transit_stations_percent_change_from_baseline' with the mean\n",
    "combined_data['grocery_and_pharmacy_percent_change_from_baseline'].fillna(combined_data['grocery_and_pharmacy_percent_change_from_baseline'].mean(), inplace=True)\n",
    "\n",
    "# Impute missing values in 'transit_stations_percent_change_from_baseline' with the mean\n",
    "combined_data['parks_percent_change_from_baseline'].fillna(combined_data['parks_percent_change_from_baseline'].mean(), inplace=True)\n",
    "\n",
    "combined_data = combined_data.dropna(subset=['fever_new', 'temperature', 'humidity', 'precipitation', 'wind_speed', 'solar_radiation', 'surface_pressure', 'dew_point' ])\n",
    "         \n",
    "# Verify that there are no missing values left\n",
    "print(combined_data.isnull().sum())"
   ]
  },
  {
   "cell_type": "code",
   "execution_count": 433,
   "id": "940a1b4f",
   "metadata": {},
   "outputs": [
    {
     "name": "stdout",
     "output_type": "stream",
     "text": [
      "Index(['state', 'date', 'case_classification_recode', 'age_recode', 'sex_new2',\n",
      "       'pregnancy_new', 'contact_with_source_case_new',\n",
      "       'direct_contact_probable_case', 'rodents_excreta', 'fever_new',\n",
      "       'temperature', 'humidity', 'precipitation', 'wind_speed',\n",
      "       'solar_radiation', 'surface_pressure', 'dew_point',\n",
      "       'workplaces_percent_change_from_baseline',\n",
      "       'residential_percent_change_from_baseline',\n",
      "       'transit_stations_percent_change_from_baseline',\n",
      "       'retail_and_recreation_percent_change_from_baseline',\n",
      "       'grocery_and_pharmacy_percent_change_from_baseline',\n",
      "       'parks_percent_change_from_baseline'],\n",
      "      dtype='object')\n"
     ]
    }
   ],
   "source": [
    "print(combined_data.columns)"
   ]
  },
  {
   "cell_type": "code",
   "execution_count": 434,
   "id": "20195398",
   "metadata": {},
   "outputs": [],
   "source": [
    "# Filter for confirmed cases (assuming 1 means confirmed cases)\n",
    "confirmed_cases = combined_data[combined_data['case_classification_recode'] == 1]"
   ]
  },
  {
   "cell_type": "code",
   "execution_count": 435,
   "id": "a9bd3355",
   "metadata": {},
   "outputs": [],
   "source": [
    "# Create daily case count by grouping by state and date\n",
    "daily_case_count = confirmed_cases.groupby(['state', 'date']).size().reset_index(name='case_count')"
   ]
  },
  {
   "cell_type": "code",
   "execution_count": 436,
   "id": "d0bc3541",
   "metadata": {},
   "outputs": [
    {
     "name": "stdout",
     "output_type": "stream",
     "text": [
      "Empty DataFrame\n",
      "Columns: [state, date, case_count]\n",
      "Index: []\n"
     ]
    }
   ],
   "source": [
    "print(daily_case_count)"
   ]
  },
  {
   "cell_type": "code",
   "execution_count": 325,
   "id": "2fb147fc",
   "metadata": {},
   "outputs": [],
   "source": [
    "# Merging the datasets on 'state' and 'date'\n",
    "combined_data = daily_case_count.merge(climatic_data_relevant, on=['state', 'date'], how='inner')\n",
    "combined_data = combined_data.merge(mobility_data_relevant, on=['state', 'date'], how='inner')"
   ]
  },
  {
   "cell_type": "code",
   "execution_count": 326,
   "id": "84d28639",
   "metadata": {},
   "outputs": [],
   "source": [
    "# Fill missing dates with zero case counts if necessary (optional)\n",
    "combined_data = combined_data.set_index(['state', 'date']).unstack(fill_value=0).stack().reset_index()"
   ]
  },
  {
   "cell_type": "code",
   "execution_count": 328,
   "id": "802d366c",
   "metadata": {},
   "outputs": [
    {
     "name": "stdout",
     "output_type": "stream",
     "text": [
      "Index(['state', 'date'], dtype='object')\n"
     ]
    }
   ],
   "source": [
    "print(combined_data.columns)"
   ]
  },
  {
   "cell_type": "code",
   "execution_count": 327,
   "id": "6af77937",
   "metadata": {},
   "outputs": [
    {
     "ename": "KeyError",
     "evalue": "'sex_new2'",
     "output_type": "error",
     "traceback": [
      "\u001b[0;31m---------------------------------------------------------------------------\u001b[0m",
      "\u001b[0;31mKeyError\u001b[0m                                  Traceback (most recent call last)",
      "File \u001b[0;32m~/anaconda3/lib/python3.11/site-packages/pandas/core/indexes/base.py:3802\u001b[0m, in \u001b[0;36mIndex.get_loc\u001b[0;34m(self, key, method, tolerance)\u001b[0m\n\u001b[1;32m   3801\u001b[0m \u001b[38;5;28;01mtry\u001b[39;00m:\n\u001b[0;32m-> 3802\u001b[0m     \u001b[38;5;28;01mreturn\u001b[39;00m \u001b[38;5;28mself\u001b[39m\u001b[38;5;241m.\u001b[39m_engine\u001b[38;5;241m.\u001b[39mget_loc(casted_key)\n\u001b[1;32m   3803\u001b[0m \u001b[38;5;28;01mexcept\u001b[39;00m \u001b[38;5;167;01mKeyError\u001b[39;00m \u001b[38;5;28;01mas\u001b[39;00m err:\n",
      "File \u001b[0;32m~/anaconda3/lib/python3.11/site-packages/pandas/_libs/index.pyx:138\u001b[0m, in \u001b[0;36mpandas._libs.index.IndexEngine.get_loc\u001b[0;34m()\u001b[0m\n",
      "File \u001b[0;32m~/anaconda3/lib/python3.11/site-packages/pandas/_libs/index.pyx:165\u001b[0m, in \u001b[0;36mpandas._libs.index.IndexEngine.get_loc\u001b[0;34m()\u001b[0m\n",
      "File \u001b[0;32mpandas/_libs/hashtable_class_helper.pxi:5745\u001b[0m, in \u001b[0;36mpandas._libs.hashtable.PyObjectHashTable.get_item\u001b[0;34m()\u001b[0m\n",
      "File \u001b[0;32mpandas/_libs/hashtable_class_helper.pxi:5753\u001b[0m, in \u001b[0;36mpandas._libs.hashtable.PyObjectHashTable.get_item\u001b[0;34m()\u001b[0m\n",
      "\u001b[0;31mKeyError\u001b[0m: 'sex_new2'",
      "\nThe above exception was the direct cause of the following exception:\n",
      "\u001b[0;31mKeyError\u001b[0m                                  Traceback (most recent call last)",
      "Cell \u001b[0;32mIn[327], line 3\u001b[0m\n\u001b[1;32m      1\u001b[0m \u001b[38;5;66;03m# Label encoding for categorical variables (e.g., 'sex_new2' in epidemiological data if required)\u001b[39;00m\n\u001b[1;32m      2\u001b[0m label_encoder \u001b[38;5;241m=\u001b[39m LabelEncoder()\n\u001b[0;32m----> 3\u001b[0m combined_data[\u001b[38;5;124m'\u001b[39m\u001b[38;5;124msex_new2\u001b[39m\u001b[38;5;124m'\u001b[39m] \u001b[38;5;241m=\u001b[39m label_encoder\u001b[38;5;241m.\u001b[39mfit_transform(combined_data[\u001b[38;5;124m'\u001b[39m\u001b[38;5;124msex_new2\u001b[39m\u001b[38;5;124m'\u001b[39m])\n",
      "File \u001b[0;32m~/anaconda3/lib/python3.11/site-packages/pandas/core/frame.py:3807\u001b[0m, in \u001b[0;36mDataFrame.__getitem__\u001b[0;34m(self, key)\u001b[0m\n\u001b[1;32m   3805\u001b[0m \u001b[38;5;28;01mif\u001b[39;00m \u001b[38;5;28mself\u001b[39m\u001b[38;5;241m.\u001b[39mcolumns\u001b[38;5;241m.\u001b[39mnlevels \u001b[38;5;241m>\u001b[39m \u001b[38;5;241m1\u001b[39m:\n\u001b[1;32m   3806\u001b[0m     \u001b[38;5;28;01mreturn\u001b[39;00m \u001b[38;5;28mself\u001b[39m\u001b[38;5;241m.\u001b[39m_getitem_multilevel(key)\n\u001b[0;32m-> 3807\u001b[0m indexer \u001b[38;5;241m=\u001b[39m \u001b[38;5;28mself\u001b[39m\u001b[38;5;241m.\u001b[39mcolumns\u001b[38;5;241m.\u001b[39mget_loc(key)\n\u001b[1;32m   3808\u001b[0m \u001b[38;5;28;01mif\u001b[39;00m is_integer(indexer):\n\u001b[1;32m   3809\u001b[0m     indexer \u001b[38;5;241m=\u001b[39m [indexer]\n",
      "File \u001b[0;32m~/anaconda3/lib/python3.11/site-packages/pandas/core/indexes/base.py:3804\u001b[0m, in \u001b[0;36mIndex.get_loc\u001b[0;34m(self, key, method, tolerance)\u001b[0m\n\u001b[1;32m   3802\u001b[0m     \u001b[38;5;28;01mreturn\u001b[39;00m \u001b[38;5;28mself\u001b[39m\u001b[38;5;241m.\u001b[39m_engine\u001b[38;5;241m.\u001b[39mget_loc(casted_key)\n\u001b[1;32m   3803\u001b[0m \u001b[38;5;28;01mexcept\u001b[39;00m \u001b[38;5;167;01mKeyError\u001b[39;00m \u001b[38;5;28;01mas\u001b[39;00m err:\n\u001b[0;32m-> 3804\u001b[0m     \u001b[38;5;28;01mraise\u001b[39;00m \u001b[38;5;167;01mKeyError\u001b[39;00m(key) \u001b[38;5;28;01mfrom\u001b[39;00m \u001b[38;5;21;01merr\u001b[39;00m\n\u001b[1;32m   3805\u001b[0m \u001b[38;5;28;01mexcept\u001b[39;00m \u001b[38;5;167;01mTypeError\u001b[39;00m:\n\u001b[1;32m   3806\u001b[0m     \u001b[38;5;66;03m# If we have a listlike key, _check_indexing_error will raise\u001b[39;00m\n\u001b[1;32m   3807\u001b[0m     \u001b[38;5;66;03m#  InvalidIndexError. Otherwise we fall through and re-raise\u001b[39;00m\n\u001b[1;32m   3808\u001b[0m     \u001b[38;5;66;03m#  the TypeError.\u001b[39;00m\n\u001b[1;32m   3809\u001b[0m     \u001b[38;5;28mself\u001b[39m\u001b[38;5;241m.\u001b[39m_check_indexing_error(key)\n",
      "\u001b[0;31mKeyError\u001b[0m: 'sex_new2'"
     ]
    }
   ],
   "source": [
    "# Label encoding for categorical variables (e.g., 'sex_new2' in epidemiological data if required)\n",
    "label_encoder = LabelEncoder()\n",
    "combined_data['sex_new2'] = label_encoder.fit_transform(combined_data['sex_new2'])"
   ]
  },
  {
   "cell_type": "code",
   "execution_count": null,
   "id": "d0a82cf9",
   "metadata": {},
   "outputs": [],
   "source": [
    "\n",
    "# Scaling the data (excluding 'state' and 'date')\n",
    "scaler = MinMaxScaler(feature_range=(0, 1))\n",
    "scaled_data = scaler.fit_transform(combined_data.drop(columns=['state', 'date']))"
   ]
  },
  {
   "cell_type": "code",
   "execution_count": null,
   "id": "358badc7",
   "metadata": {},
   "outputs": [],
   "source": [
    "# Convert back to DataFrame for structure\n",
    "scaled_data = pd.DataFrame(scaled_data, columns=combined_data.columns.drop(['state', 'date']))"
   ]
  },
  {
   "cell_type": "code",
   "execution_count": null,
   "id": "ceee2c94",
   "metadata": {},
   "outputs": [],
   "source": [
    "# Step 1: Create sequences for the LSTM model (e.g., using 30 days of past data)\n",
    "def create_sequences(data, time_steps=30):\n",
    "    X, y = [], []\n",
    "    for i in range(len(data) - time_steps):\n",
    "        X.append(data[i:i + time_steps, :])  # Use all features for X\n",
    "        y.append(data[i + time_steps, 0])  # Assuming the first column is 'case_count'\n",
    "    return np.array(X), np.array(y)"
   ]
  },
  {
   "cell_type": "code",
   "execution_count": null,
   "id": "89183975",
   "metadata": {},
   "outputs": [],
   "source": [
    "# Create time-series sequences\n",
    "time_steps = 30  # Using 30 past days as time steps\n",
    "X, y = create_sequences(scaled_data.values, time_steps)\n",
    "\n",
    "# Train-test split (80% train, 20% test)\n",
    "train_size = int(len(X) * 0.8)\n",
    "X_train, y_train = X[:train_size], y[:train_size]\n",
    "X_test, y_test = X[train_size:], y[train_size:]"
   ]
  },
  {
   "cell_type": "code",
   "execution_count": null,
   "id": "3ffd4514",
   "metadata": {},
   "outputs": [],
   "source": [
    "# Step 2: Build and train the LSTM model\n",
    "model = Sequential()\n",
    "\n",
    "# LSTM layers\n",
    "model.add(LSTM(units=50, return_sequences=True, input_shape=(X_train.shape[1], X_train.shape[2])))\n",
    "model.add(Dropout(0.2))\n",
    "\n",
    "model.add(LSTM(units=50, return_sequences=False))\n",
    "model.add(Dropout(0.2))\n",
    "\n",
    "# Output layer (1 unit for predicting outbreak cases)\n",
    "model.add(Dense(units=1))\n",
    "\n",
    "# Compile the model\n",
    "model.compile(optimizer='adam', loss='mean_squared_error')\n",
    "\n",
    "# Train the model\n",
    "history = model.fit(X_train, y_train, epochs=50, batch_size=64, validation_data=(X_test, y_test))"
   ]
  },
  {
   "cell_type": "code",
   "execution_count": null,
   "id": "b0d049bd",
   "metadata": {},
   "outputs": [],
   "source": [
    "# Step 3: Model evaluation\n",
    "predictions = model.predict(X_test)\n",
    "\n",
    "# Rescale predictions back to original values\n",
    "predictions_rescaled = scaler.inverse_transform(np.concatenate((X_test[:, -1, 1:], predictions), axis=1))[:, -1]\n",
    "y_test_rescaled = scaler.inverse_transform(np.concatenate((X_test[:, -1, 1:], y_test.reshape(-1, 1)), axis=1))[:, -1]\n",
    "\n",
    "# Plotting the results\n",
    "plt.figure(figsize=(10, 6))\n",
    "plt.plot(y_test_rescaled, color='blue', label='Actual Outbreak Cases')\n",
    "plt.plot(predictions_rescaled, color='red', label='Predicted Outbreak Cases')\n",
    "plt.title('LSTM Model - Actual vs Predicted Outbreak Cases')\n",
    "plt.xlabel('Time')\n",
    "plt.ylabel('Outbreak Cases')\n",
    "plt.legend()\n",
    "plt.show()\n",
    "\n",
    "# Calculate Mean Squared Error (MSE)\n",
    "mse = mean_squared_error(y_test_rescaled, predictions_rescaled)\n",
    "print(f'Mean Squared Error: {mse}')"
   ]
  },
  {
   "cell_type": "code",
   "execution_count": null,
   "id": "372dde7f",
   "metadata": {},
   "outputs": [],
   "source": []
  },
  {
   "cell_type": "code",
   "execution_count": null,
   "id": "efafbe88",
   "metadata": {},
   "outputs": [],
   "source": []
  },
  {
   "cell_type": "code",
   "execution_count": 248,
   "id": "ffc825aa",
   "metadata": {
    "scrolled": true
   },
   "outputs": [
    {
     "ename": "KeyError",
     "evalue": "'Column not found: case_count_column'",
     "output_type": "error",
     "traceback": [
      "\u001b[0;31m---------------------------------------------------------------------------\u001b[0m",
      "\u001b[0;31mKeyError\u001b[0m                                  Traceback (most recent call last)",
      "Cell \u001b[0;32mIn[248], line 1\u001b[0m\n\u001b[0;32m----> 1\u001b[0m case_counts \u001b[38;5;241m=\u001b[39m combined_data\u001b[38;5;241m.\u001b[39mgroupby([\u001b[38;5;124m'\u001b[39m\u001b[38;5;124mstate\u001b[39m\u001b[38;5;124m'\u001b[39m, \u001b[38;5;124m'\u001b[39m\u001b[38;5;124mdate\u001b[39m\u001b[38;5;124m'\u001b[39m])[\u001b[38;5;124m'\u001b[39m\u001b[38;5;124mcase_count_column\u001b[39m\u001b[38;5;124m'\u001b[39m]\u001b[38;5;241m.\u001b[39msum()\u001b[38;5;241m.\u001b[39mreset_index()\n",
      "File \u001b[0;32m~/anaconda3/lib/python3.11/site-packages/pandas/core/groupby/generic.py:1416\u001b[0m, in \u001b[0;36mDataFrameGroupBy.__getitem__\u001b[0;34m(self, key)\u001b[0m\n\u001b[1;32m   1407\u001b[0m \u001b[38;5;28;01mif\u001b[39;00m \u001b[38;5;28misinstance\u001b[39m(key, \u001b[38;5;28mtuple\u001b[39m) \u001b[38;5;129;01mand\u001b[39;00m \u001b[38;5;28mlen\u001b[39m(key) \u001b[38;5;241m>\u001b[39m \u001b[38;5;241m1\u001b[39m:\n\u001b[1;32m   1408\u001b[0m     \u001b[38;5;66;03m# if len == 1, then it becomes a SeriesGroupBy and this is actually\u001b[39;00m\n\u001b[1;32m   1409\u001b[0m     \u001b[38;5;66;03m# valid syntax, so don't raise warning\u001b[39;00m\n\u001b[1;32m   1410\u001b[0m     warnings\u001b[38;5;241m.\u001b[39mwarn(\n\u001b[1;32m   1411\u001b[0m         \u001b[38;5;124m\"\u001b[39m\u001b[38;5;124mIndexing with multiple keys (implicitly converted to a tuple \u001b[39m\u001b[38;5;124m\"\u001b[39m\n\u001b[1;32m   1412\u001b[0m         \u001b[38;5;124m\"\u001b[39m\u001b[38;5;124mof keys) will be deprecated, use a list instead.\u001b[39m\u001b[38;5;124m\"\u001b[39m,\n\u001b[1;32m   1413\u001b[0m         \u001b[38;5;167;01mFutureWarning\u001b[39;00m,\n\u001b[1;32m   1414\u001b[0m         stacklevel\u001b[38;5;241m=\u001b[39mfind_stack_level(),\n\u001b[1;32m   1415\u001b[0m     )\n\u001b[0;32m-> 1416\u001b[0m \u001b[38;5;28;01mreturn\u001b[39;00m \u001b[38;5;28msuper\u001b[39m()\u001b[38;5;241m.\u001b[39m\u001b[38;5;21m__getitem__\u001b[39m(key)\n",
      "File \u001b[0;32m~/anaconda3/lib/python3.11/site-packages/pandas/core/base.py:248\u001b[0m, in \u001b[0;36mSelectionMixin.__getitem__\u001b[0;34m(self, key)\u001b[0m\n\u001b[1;32m    246\u001b[0m \u001b[38;5;28;01melse\u001b[39;00m:\n\u001b[1;32m    247\u001b[0m     \u001b[38;5;28;01mif\u001b[39;00m key \u001b[38;5;129;01mnot\u001b[39;00m \u001b[38;5;129;01min\u001b[39;00m \u001b[38;5;28mself\u001b[39m\u001b[38;5;241m.\u001b[39mobj:\n\u001b[0;32m--> 248\u001b[0m         \u001b[38;5;28;01mraise\u001b[39;00m \u001b[38;5;167;01mKeyError\u001b[39;00m(\u001b[38;5;124mf\u001b[39m\u001b[38;5;124m\"\u001b[39m\u001b[38;5;124mColumn not found: \u001b[39m\u001b[38;5;132;01m{\u001b[39;00mkey\u001b[38;5;132;01m}\u001b[39;00m\u001b[38;5;124m\"\u001b[39m)\n\u001b[1;32m    249\u001b[0m     subset \u001b[38;5;241m=\u001b[39m \u001b[38;5;28mself\u001b[39m\u001b[38;5;241m.\u001b[39mobj[key]\n\u001b[1;32m    250\u001b[0m     ndim \u001b[38;5;241m=\u001b[39m subset\u001b[38;5;241m.\u001b[39mndim\n",
      "\u001b[0;31mKeyError\u001b[0m: 'Column not found: case_count_column'"
     ]
    }
   ],
   "source": [
    "case_counts = combined_data.groupby(['state', 'date'])['case_count_column'].sum().reset_index()\n"
   ]
  },
  {
   "cell_type": "code",
   "execution_count": null,
   "id": "7623317b",
   "metadata": {},
   "outputs": [],
   "source": []
  },
  {
   "cell_type": "code",
   "execution_count": 220,
   "id": "85b552b7",
   "metadata": {},
   "outputs": [],
   "source": [
    "# Merge the case count back into the combined dataset\n",
    "combined_data = combined_data.merge(case_counts, on=['state', 'date'], how='left')"
   ]
  },
  {
   "cell_type": "code",
   "execution_count": 221,
   "id": "ed94d03c",
   "metadata": {
    "scrolled": false
   },
   "outputs": [
    {
     "name": "stdout",
     "output_type": "stream",
     "text": [
      "        state       date  case_count\n",
      "0        Abia 2018-01-11           1\n",
      "1        Abia 2018-01-20           1\n",
      "2        Abia 2019-01-23           1\n",
      "3        Abia 2019-01-29           1\n",
      "4        Abia 2019-01-30           1\n",
      "...       ...        ...         ...\n",
      "5918  Zamfara 2020-03-09           2\n",
      "5919  Zamfara 2020-03-14           1\n",
      "5920  Zamfara 2020-03-18           1\n",
      "5921  Zamfara 2020-06-13           1\n",
      "5922  Zamfara 2020-11-28           1\n",
      "\n",
      "[5923 rows x 3 columns]\n",
      "        state       date case_classification_recode age_recode sex_new2  \\\n",
      "0      Bauchi 2021-12-27                   negative          9      2.0   \n",
      "1      Bauchi 2021-12-27                   negative          9      2.0   \n",
      "2      Bauchi 2021-12-27                   negative          9      2.0   \n",
      "3        Ondo 2021-12-27                   negative          6      1.0   \n",
      "4        Ondo 2021-12-27                   negative          6      1.0   \n",
      "...       ...        ...                        ...        ...      ...   \n",
      "52026   Delta 2020-06-04                   negative         43      2.0   \n",
      "52027   Delta 2020-06-04                   negative         43      2.0   \n",
      "52028   Delta 2020-06-04                   negative         43      2.0   \n",
      "52029  Taraba 2020-03-27                   negative         45      2.0   \n",
      "52030  Taraba 2020-03-27                   negative         45      2.0   \n",
      "\n",
      "      pregnancy_new contact_with_source_case_new direct_contact_probable_case  \\\n",
      "0               NaN                           No                          NaN   \n",
      "1               NaN                           No                          NaN   \n",
      "2               NaN                           No                          NaN   \n",
      "3                No                           No                          NaN   \n",
      "4                No                           No                          NaN   \n",
      "...             ...                          ...                          ...   \n",
      "52026           NaN                          NaN                          NaN   \n",
      "52027           NaN                          NaN                          NaN   \n",
      "52028           NaN                          NaN                          NaN   \n",
      "52029           NaN                          NaN                          NaN   \n",
      "52030           NaN                          NaN                          NaN   \n",
      "\n",
      "      rodents_excreta fever_new  ...  solar_radiation  surface_pressure  \\\n",
      "0                 NaN       Yes  ...             5.68             95.44   \n",
      "1                 NaN       Yes  ...             5.68             95.44   \n",
      "2                 NaN       Yes  ...             5.68             95.44   \n",
      "3                 NaN       Yes  ...             5.07             96.82   \n",
      "4                 NaN       Yes  ...             5.07             96.82   \n",
      "...               ...       ...  ...              ...               ...   \n",
      "52026             NaN       Yes  ...             4.07            100.82   \n",
      "52027             NaN       Yes  ...             4.07            100.82   \n",
      "52028             NaN       Yes  ...             4.07            100.82   \n",
      "52029             NaN       Yes  ...             5.48             97.93   \n",
      "52030             NaN       Yes  ...             5.48             97.93   \n",
      "\n",
      "       dew_point  workplaces_percent_change_from_baseline  \\\n",
      "0           9.21                                    -25.0   \n",
      "1           9.21                                    -29.0   \n",
      "2           9.21                                      NaN   \n",
      "3          21.67                                    -39.0   \n",
      "4          21.67                                    -46.0   \n",
      "...          ...                                      ...   \n",
      "52026      24.78                                     -4.0   \n",
      "52027      24.78                                    -12.0   \n",
      "52028      24.78                                     -9.0   \n",
      "52029      18.51                                    -10.0   \n",
      "52030      18.51                                    -13.0   \n",
      "\n",
      "       residential_percent_change_from_baseline  \\\n",
      "0                                           3.0   \n",
      "1                                           8.0   \n",
      "2                                           NaN   \n",
      "3                                          10.0   \n",
      "4                                           NaN   \n",
      "...                                         ...   \n",
      "52026                                       NaN   \n",
      "52027                                      20.0   \n",
      "52028                                      15.0   \n",
      "52029                                       NaN   \n",
      "52030                                       NaN   \n",
      "\n",
      "       transit_stations_percent_change_from_baseline  \\\n",
      "0                                                NaN   \n",
      "1                                                NaN   \n",
      "2                                                NaN   \n",
      "3                                               27.0   \n",
      "4                                                NaN   \n",
      "...                                              ...   \n",
      "52026                                            NaN   \n",
      "52027                                            NaN   \n",
      "52028                                            NaN   \n",
      "52029                                            NaN   \n",
      "52030                                            NaN   \n",
      "\n",
      "       retail_and_recreation_percent_change_from_baseline  \\\n",
      "0                                                    NaN    \n",
      "1                                                   49.0    \n",
      "2                                                    NaN    \n",
      "3                                                   58.0    \n",
      "4                                                    NaN    \n",
      "...                                                  ...    \n",
      "52026                                                NaN    \n",
      "52027                                              -16.0    \n",
      "52028                                               -3.0    \n",
      "52029                                               16.0    \n",
      "52030                                                NaN    \n",
      "\n",
      "       grocery_and_pharmacy_percent_change_from_baseline  \\\n",
      "0                                                    NaN   \n",
      "1                                                   13.0   \n",
      "2                                                    NaN   \n",
      "3                                                   40.0   \n",
      "4                                                    NaN   \n",
      "...                                                  ...   \n",
      "52026                                                NaN   \n",
      "52027                                              -11.0   \n",
      "52028                                              -20.0   \n",
      "52029                                                NaN   \n",
      "52030                                                NaN   \n",
      "\n",
      "       parks_percent_change_from_baseline  case_count  \n",
      "0                                   137.0           1  \n",
      "1                                     NaN           1  \n",
      "2                                   138.0           1  \n",
      "3                                     NaN           4  \n",
      "4                                     NaN           4  \n",
      "...                                   ...         ...  \n",
      "52026                                 NaN           1  \n",
      "52027                                 NaN           1  \n",
      "52028                                 NaN           1  \n",
      "52029                                 NaN           1  \n",
      "52030                                 NaN           1  \n",
      "\n",
      "[52031 rows x 24 columns]\n"
     ]
    }
   ],
   "source": [
    "print(case_counts)\n",
    "print(combined_data)"
   ]
  },
  {
   "cell_type": "code",
   "execution_count": 222,
   "id": "01254e2b",
   "metadata": {},
   "outputs": [
    {
     "name": "stdout",
     "output_type": "stream",
     "text": [
      "(52031, 24)\n"
     ]
    }
   ],
   "source": [
    "print(combined_data.shape)"
   ]
  },
  {
   "cell_type": "code",
   "execution_count": 223,
   "id": "cb25ae95",
   "metadata": {
    "scrolled": true
   },
   "outputs": [
    {
     "ename": "KeyError",
     "evalue": "\"['case_counts'] not in index\"",
     "output_type": "error",
     "traceback": [
      "\u001b[0;31m---------------------------------------------------------------------------\u001b[0m",
      "\u001b[0;31mKeyError\u001b[0m                                  Traceback (most recent call last)",
      "Cell \u001b[0;32mIn[223], line 3\u001b[0m\n\u001b[1;32m      1\u001b[0m \u001b[38;5;66;03m# Normalize features using MinMaxScaler\u001b[39;00m\n\u001b[1;32m      2\u001b[0m scaler \u001b[38;5;241m=\u001b[39m MinMaxScaler(feature_range\u001b[38;5;241m=\u001b[39m(\u001b[38;5;241m0\u001b[39m, \u001b[38;5;241m1\u001b[39m))\n\u001b[0;32m----> 3\u001b[0m scaled_data \u001b[38;5;241m=\u001b[39m scaler\u001b[38;5;241m.\u001b[39mfit_transform(combined_data[features])\n",
      "File \u001b[0;32m~/anaconda3/lib/python3.11/site-packages/pandas/core/frame.py:3813\u001b[0m, in \u001b[0;36mDataFrame.__getitem__\u001b[0;34m(self, key)\u001b[0m\n\u001b[1;32m   3811\u001b[0m     \u001b[38;5;28;01mif\u001b[39;00m is_iterator(key):\n\u001b[1;32m   3812\u001b[0m         key \u001b[38;5;241m=\u001b[39m \u001b[38;5;28mlist\u001b[39m(key)\n\u001b[0;32m-> 3813\u001b[0m     indexer \u001b[38;5;241m=\u001b[39m \u001b[38;5;28mself\u001b[39m\u001b[38;5;241m.\u001b[39mcolumns\u001b[38;5;241m.\u001b[39m_get_indexer_strict(key, \u001b[38;5;124m\"\u001b[39m\u001b[38;5;124mcolumns\u001b[39m\u001b[38;5;124m\"\u001b[39m)[\u001b[38;5;241m1\u001b[39m]\n\u001b[1;32m   3815\u001b[0m \u001b[38;5;66;03m# take() does not accept boolean indexers\u001b[39;00m\n\u001b[1;32m   3816\u001b[0m \u001b[38;5;28;01mif\u001b[39;00m \u001b[38;5;28mgetattr\u001b[39m(indexer, \u001b[38;5;124m\"\u001b[39m\u001b[38;5;124mdtype\u001b[39m\u001b[38;5;124m\"\u001b[39m, \u001b[38;5;28;01mNone\u001b[39;00m) \u001b[38;5;241m==\u001b[39m \u001b[38;5;28mbool\u001b[39m:\n",
      "File \u001b[0;32m~/anaconda3/lib/python3.11/site-packages/pandas/core/indexes/base.py:6070\u001b[0m, in \u001b[0;36mIndex._get_indexer_strict\u001b[0;34m(self, key, axis_name)\u001b[0m\n\u001b[1;32m   6067\u001b[0m \u001b[38;5;28;01melse\u001b[39;00m:\n\u001b[1;32m   6068\u001b[0m     keyarr, indexer, new_indexer \u001b[38;5;241m=\u001b[39m \u001b[38;5;28mself\u001b[39m\u001b[38;5;241m.\u001b[39m_reindex_non_unique(keyarr)\n\u001b[0;32m-> 6070\u001b[0m \u001b[38;5;28mself\u001b[39m\u001b[38;5;241m.\u001b[39m_raise_if_missing(keyarr, indexer, axis_name)\n\u001b[1;32m   6072\u001b[0m keyarr \u001b[38;5;241m=\u001b[39m \u001b[38;5;28mself\u001b[39m\u001b[38;5;241m.\u001b[39mtake(indexer)\n\u001b[1;32m   6073\u001b[0m \u001b[38;5;28;01mif\u001b[39;00m \u001b[38;5;28misinstance\u001b[39m(key, Index):\n\u001b[1;32m   6074\u001b[0m     \u001b[38;5;66;03m# GH 42790 - Preserve name from an Index\u001b[39;00m\n",
      "File \u001b[0;32m~/anaconda3/lib/python3.11/site-packages/pandas/core/indexes/base.py:6133\u001b[0m, in \u001b[0;36mIndex._raise_if_missing\u001b[0;34m(self, key, indexer, axis_name)\u001b[0m\n\u001b[1;32m   6130\u001b[0m     \u001b[38;5;28;01mraise\u001b[39;00m \u001b[38;5;167;01mKeyError\u001b[39;00m(\u001b[38;5;124mf\u001b[39m\u001b[38;5;124m\"\u001b[39m\u001b[38;5;124mNone of [\u001b[39m\u001b[38;5;132;01m{\u001b[39;00mkey\u001b[38;5;132;01m}\u001b[39;00m\u001b[38;5;124m] are in the [\u001b[39m\u001b[38;5;132;01m{\u001b[39;00maxis_name\u001b[38;5;132;01m}\u001b[39;00m\u001b[38;5;124m]\u001b[39m\u001b[38;5;124m\"\u001b[39m)\n\u001b[1;32m   6132\u001b[0m not_found \u001b[38;5;241m=\u001b[39m \u001b[38;5;28mlist\u001b[39m(ensure_index(key)[missing_mask\u001b[38;5;241m.\u001b[39mnonzero()[\u001b[38;5;241m0\u001b[39m]]\u001b[38;5;241m.\u001b[39munique())\n\u001b[0;32m-> 6133\u001b[0m \u001b[38;5;28;01mraise\u001b[39;00m \u001b[38;5;167;01mKeyError\u001b[39;00m(\u001b[38;5;124mf\u001b[39m\u001b[38;5;124m\"\u001b[39m\u001b[38;5;132;01m{\u001b[39;00mnot_found\u001b[38;5;132;01m}\u001b[39;00m\u001b[38;5;124m not in index\u001b[39m\u001b[38;5;124m\"\u001b[39m)\n",
      "\u001b[0;31mKeyError\u001b[0m: \"['case_counts'] not in index\""
     ]
    }
   ],
   "source": [
    "# Normalize features using MinMaxScaler\n",
    "scaler = MinMaxScaler(feature_range=(0, 1))\n",
    "scaled_data = scaler.fit_transform(combined_data[features])"
   ]
  },
  {
   "cell_type": "code",
   "execution_count": 224,
   "id": "438212a1",
   "metadata": {},
   "outputs": [],
   "source": [
    "# Prepare sequences for LSTM\n",
    "def create_sequences(data, time_step=30):\n",
    "    X, Y = [], []\n",
    "    for i in range(len(data) - time_step):\n",
    "        X.append(data[i:(i + time_step)])\n",
    "        Y.append(data[i + time_step])\n",
    "    return np.array(X), np.array(Y)"
   ]
  },
  {
   "cell_type": "code",
   "execution_count": 225,
   "id": "f8e71ff8",
   "metadata": {},
   "outputs": [
    {
     "ename": "KeyError",
     "evalue": "'scaled_case_count'",
     "output_type": "error",
     "traceback": [
      "\u001b[0;31m---------------------------------------------------------------------------\u001b[0m",
      "\u001b[0;31mKeyError\u001b[0m                                  Traceback (most recent call last)",
      "File \u001b[0;32m~/anaconda3/lib/python3.11/site-packages/pandas/core/indexes/base.py:3802\u001b[0m, in \u001b[0;36mIndex.get_loc\u001b[0;34m(self, key, method, tolerance)\u001b[0m\n\u001b[1;32m   3801\u001b[0m \u001b[38;5;28;01mtry\u001b[39;00m:\n\u001b[0;32m-> 3802\u001b[0m     \u001b[38;5;28;01mreturn\u001b[39;00m \u001b[38;5;28mself\u001b[39m\u001b[38;5;241m.\u001b[39m_engine\u001b[38;5;241m.\u001b[39mget_loc(casted_key)\n\u001b[1;32m   3803\u001b[0m \u001b[38;5;28;01mexcept\u001b[39;00m \u001b[38;5;167;01mKeyError\u001b[39;00m \u001b[38;5;28;01mas\u001b[39;00m err:\n",
      "File \u001b[0;32m~/anaconda3/lib/python3.11/site-packages/pandas/_libs/index.pyx:138\u001b[0m, in \u001b[0;36mpandas._libs.index.IndexEngine.get_loc\u001b[0;34m()\u001b[0m\n",
      "File \u001b[0;32m~/anaconda3/lib/python3.11/site-packages/pandas/_libs/index.pyx:165\u001b[0m, in \u001b[0;36mpandas._libs.index.IndexEngine.get_loc\u001b[0;34m()\u001b[0m\n",
      "File \u001b[0;32mpandas/_libs/hashtable_class_helper.pxi:5745\u001b[0m, in \u001b[0;36mpandas._libs.hashtable.PyObjectHashTable.get_item\u001b[0;34m()\u001b[0m\n",
      "File \u001b[0;32mpandas/_libs/hashtable_class_helper.pxi:5753\u001b[0m, in \u001b[0;36mpandas._libs.hashtable.PyObjectHashTable.get_item\u001b[0;34m()\u001b[0m\n",
      "\u001b[0;31mKeyError\u001b[0m: 'scaled_case_count'",
      "\nThe above exception was the direct cause of the following exception:\n",
      "\u001b[0;31mKeyError\u001b[0m                                  Traceback (most recent call last)",
      "Cell \u001b[0;32mIn[225], line 3\u001b[0m\n\u001b[1;32m      1\u001b[0m \u001b[38;5;66;03m# Split into training and testing datasets\u001b[39;00m\n\u001b[1;32m      2\u001b[0m train_size \u001b[38;5;241m=\u001b[39m \u001b[38;5;28mint\u001b[39m(\u001b[38;5;28mlen\u001b[39m(case_counts) \u001b[38;5;241m*\u001b[39m \u001b[38;5;241m0.8\u001b[39m)\n\u001b[0;32m----> 3\u001b[0m train_data \u001b[38;5;241m=\u001b[39m case_counts[\u001b[38;5;124m'\u001b[39m\u001b[38;5;124mscaled_case_count\u001b[39m\u001b[38;5;124m'\u001b[39m]\u001b[38;5;241m.\u001b[39mvalues[:train_size]\n\u001b[1;32m      4\u001b[0m test_data \u001b[38;5;241m=\u001b[39m case_counts[\u001b[38;5;124m'\u001b[39m\u001b[38;5;124mscaled_case_count\u001b[39m\u001b[38;5;124m'\u001b[39m]\u001b[38;5;241m.\u001b[39mvalues[train_size:]\n",
      "File \u001b[0;32m~/anaconda3/lib/python3.11/site-packages/pandas/core/frame.py:3807\u001b[0m, in \u001b[0;36mDataFrame.__getitem__\u001b[0;34m(self, key)\u001b[0m\n\u001b[1;32m   3805\u001b[0m \u001b[38;5;28;01mif\u001b[39;00m \u001b[38;5;28mself\u001b[39m\u001b[38;5;241m.\u001b[39mcolumns\u001b[38;5;241m.\u001b[39mnlevels \u001b[38;5;241m>\u001b[39m \u001b[38;5;241m1\u001b[39m:\n\u001b[1;32m   3806\u001b[0m     \u001b[38;5;28;01mreturn\u001b[39;00m \u001b[38;5;28mself\u001b[39m\u001b[38;5;241m.\u001b[39m_getitem_multilevel(key)\n\u001b[0;32m-> 3807\u001b[0m indexer \u001b[38;5;241m=\u001b[39m \u001b[38;5;28mself\u001b[39m\u001b[38;5;241m.\u001b[39mcolumns\u001b[38;5;241m.\u001b[39mget_loc(key)\n\u001b[1;32m   3808\u001b[0m \u001b[38;5;28;01mif\u001b[39;00m is_integer(indexer):\n\u001b[1;32m   3809\u001b[0m     indexer \u001b[38;5;241m=\u001b[39m [indexer]\n",
      "File \u001b[0;32m~/anaconda3/lib/python3.11/site-packages/pandas/core/indexes/base.py:3804\u001b[0m, in \u001b[0;36mIndex.get_loc\u001b[0;34m(self, key, method, tolerance)\u001b[0m\n\u001b[1;32m   3802\u001b[0m     \u001b[38;5;28;01mreturn\u001b[39;00m \u001b[38;5;28mself\u001b[39m\u001b[38;5;241m.\u001b[39m_engine\u001b[38;5;241m.\u001b[39mget_loc(casted_key)\n\u001b[1;32m   3803\u001b[0m \u001b[38;5;28;01mexcept\u001b[39;00m \u001b[38;5;167;01mKeyError\u001b[39;00m \u001b[38;5;28;01mas\u001b[39;00m err:\n\u001b[0;32m-> 3804\u001b[0m     \u001b[38;5;28;01mraise\u001b[39;00m \u001b[38;5;167;01mKeyError\u001b[39;00m(key) \u001b[38;5;28;01mfrom\u001b[39;00m \u001b[38;5;21;01merr\u001b[39;00m\n\u001b[1;32m   3805\u001b[0m \u001b[38;5;28;01mexcept\u001b[39;00m \u001b[38;5;167;01mTypeError\u001b[39;00m:\n\u001b[1;32m   3806\u001b[0m     \u001b[38;5;66;03m# If we have a listlike key, _check_indexing_error will raise\u001b[39;00m\n\u001b[1;32m   3807\u001b[0m     \u001b[38;5;66;03m#  InvalidIndexError. Otherwise we fall through and re-raise\u001b[39;00m\n\u001b[1;32m   3808\u001b[0m     \u001b[38;5;66;03m#  the TypeError.\u001b[39;00m\n\u001b[1;32m   3809\u001b[0m     \u001b[38;5;28mself\u001b[39m\u001b[38;5;241m.\u001b[39m_check_indexing_error(key)\n",
      "\u001b[0;31mKeyError\u001b[0m: 'scaled_case_count'"
     ]
    }
   ],
   "source": [
    "# Split into training and testing datasets\n",
    "train_size = int(len(case_counts) * 0.8)\n",
    "train_data = case_counts['scaled_case_count'].values[:train_size]\n",
    "test_data = case_counts['scaled_case_count'].values[train_size:]"
   ]
  },
  {
   "cell_type": "code",
   "execution_count": 185,
   "id": "ab33bfd1",
   "metadata": {},
   "outputs": [],
   "source": [
    "# Create sequences for training and testing\n",
    "X_train, Y_train = create_sequences(train_data, time_step=30)\n",
    "X_test, Y_test = create_sequences(test_data, time_step=30)"
   ]
  },
  {
   "cell_type": "code",
   "execution_count": 186,
   "id": "626933ab",
   "metadata": {},
   "outputs": [],
   "source": [
    "# Reshape input to be [samples, time steps, features]\n",
    "X_train = X_train.reshape(X_train.shape[0], X_train.shape[1], 1)\n",
    "X_test = X_test.reshape(X_test.shape[0], X_test.shape[1], 1)"
   ]
  },
  {
   "cell_type": "code",
   "execution_count": 187,
   "id": "3581d531",
   "metadata": {},
   "outputs": [
    {
     "name": "stderr",
     "output_type": "stream",
     "text": [
      "/Users/m1/anaconda3/lib/python3.11/site-packages/keras/src/layers/rnn/rnn.py:204: UserWarning: Do not pass an `input_shape`/`input_dim` argument to a layer. When using Sequential models, prefer using an `Input(shape)` object as the first layer in the model instead.\n",
      "  super().__init__(**kwargs)\n"
     ]
    },
    {
     "name": "stdout",
     "output_type": "stream",
     "text": [
      "Epoch 1/20\n",
      "\u001b[1m148/148\u001b[0m \u001b[32m━━━━━━━━━━━━━━━━━━━━\u001b[0m\u001b[37m\u001b[0m \u001b[1m3s\u001b[0m 13ms/step - loss: 0.0029 - val_loss: 7.4645e-04\n",
      "Epoch 2/20\n",
      "\u001b[1m148/148\u001b[0m \u001b[32m━━━━━━━━━━━━━━━━━━━━\u001b[0m\u001b[37m\u001b[0m \u001b[1m1s\u001b[0m 9ms/step - loss: 0.0021 - val_loss: 7.5598e-04\n",
      "Epoch 3/20\n",
      "\u001b[1m148/148\u001b[0m \u001b[32m━━━━━━━━━━━━━━━━━━━━\u001b[0m\u001b[37m\u001b[0m \u001b[1m1s\u001b[0m 9ms/step - loss: 0.0020 - val_loss: 7.6164e-04\n",
      "Epoch 4/20\n",
      "\u001b[1m148/148\u001b[0m \u001b[32m━━━━━━━━━━━━━━━━━━━━\u001b[0m\u001b[37m\u001b[0m \u001b[1m1s\u001b[0m 9ms/step - loss: 0.0018 - val_loss: 7.9754e-04\n",
      "Epoch 5/20\n",
      "\u001b[1m148/148\u001b[0m \u001b[32m━━━━━━━━━━━━━━━━━━━━\u001b[0m\u001b[37m\u001b[0m \u001b[1m1s\u001b[0m 10ms/step - loss: 0.0018 - val_loss: 8.8885e-04\n",
      "Epoch 6/20\n",
      "\u001b[1m148/148\u001b[0m \u001b[32m━━━━━━━━━━━━━━━━━━━━\u001b[0m\u001b[37m\u001b[0m \u001b[1m1s\u001b[0m 9ms/step - loss: 0.0019 - val_loss: 7.5540e-04\n",
      "Epoch 7/20\n",
      "\u001b[1m148/148\u001b[0m \u001b[32m━━━━━━━━━━━━━━━━━━━━\u001b[0m\u001b[37m\u001b[0m \u001b[1m1s\u001b[0m 10ms/step - loss: 0.0018 - val_loss: 7.4328e-04\n",
      "Epoch 8/20\n",
      "\u001b[1m148/148\u001b[0m \u001b[32m━━━━━━━━━━━━━━━━━━━━\u001b[0m\u001b[37m\u001b[0m \u001b[1m1s\u001b[0m 9ms/step - loss: 0.0019 - val_loss: 7.3719e-04\n",
      "Epoch 9/20\n",
      "\u001b[1m148/148\u001b[0m \u001b[32m━━━━━━━━━━━━━━━━━━━━\u001b[0m\u001b[37m\u001b[0m \u001b[1m1s\u001b[0m 9ms/step - loss: 0.0019 - val_loss: 7.3669e-04\n",
      "Epoch 10/20\n",
      "\u001b[1m148/148\u001b[0m \u001b[32m━━━━━━━━━━━━━━━━━━━━\u001b[0m\u001b[37m\u001b[0m \u001b[1m1s\u001b[0m 9ms/step - loss: 0.0015 - val_loss: 7.2903e-04\n",
      "Epoch 11/20\n",
      "\u001b[1m148/148\u001b[0m \u001b[32m━━━━━━━━━━━━━━━━━━━━\u001b[0m\u001b[37m\u001b[0m \u001b[1m1s\u001b[0m 10ms/step - loss: 0.0018 - val_loss: 7.6623e-04\n",
      "Epoch 12/20\n",
      "\u001b[1m148/148\u001b[0m \u001b[32m━━━━━━━━━━━━━━━━━━━━\u001b[0m\u001b[37m\u001b[0m \u001b[1m1s\u001b[0m 9ms/step - loss: 0.0019 - val_loss: 7.4962e-04\n",
      "Epoch 13/20\n",
      "\u001b[1m148/148\u001b[0m \u001b[32m━━━━━━━━━━━━━━━━━━━━\u001b[0m\u001b[37m\u001b[0m \u001b[1m1s\u001b[0m 9ms/step - loss: 0.0017 - val_loss: 7.4211e-04\n",
      "Epoch 14/20\n",
      "\u001b[1m148/148\u001b[0m \u001b[32m━━━━━━━━━━━━━━━━━━━━\u001b[0m\u001b[37m\u001b[0m \u001b[1m1s\u001b[0m 9ms/step - loss: 0.0019 - val_loss: 7.3143e-04\n",
      "Epoch 15/20\n",
      "\u001b[1m148/148\u001b[0m \u001b[32m━━━━━━━━━━━━━━━━━━━━\u001b[0m\u001b[37m\u001b[0m \u001b[1m1s\u001b[0m 10ms/step - loss: 0.0018 - val_loss: 9.2880e-04\n",
      "Epoch 16/20\n",
      "\u001b[1m148/148\u001b[0m \u001b[32m━━━━━━━━━━━━━━━━━━━━\u001b[0m\u001b[37m\u001b[0m \u001b[1m1s\u001b[0m 9ms/step - loss: 0.0018 - val_loss: 7.3540e-04\n",
      "Epoch 17/20\n",
      "\u001b[1m148/148\u001b[0m \u001b[32m━━━━━━━━━━━━━━━━━━━━\u001b[0m\u001b[37m\u001b[0m \u001b[1m1s\u001b[0m 10ms/step - loss: 0.0018 - val_loss: 0.0011\n",
      "Epoch 18/20\n",
      "\u001b[1m148/148\u001b[0m \u001b[32m━━━━━━━━━━━━━━━━━━━━\u001b[0m\u001b[37m\u001b[0m \u001b[1m1s\u001b[0m 9ms/step - loss: 0.0016 - val_loss: 7.6015e-04\n",
      "Epoch 19/20\n",
      "\u001b[1m148/148\u001b[0m \u001b[32m━━━━━━━━━━━━━━━━━━━━\u001b[0m\u001b[37m\u001b[0m \u001b[1m1s\u001b[0m 10ms/step - loss: 0.0020 - val_loss: 7.2892e-04\n",
      "Epoch 20/20\n",
      "\u001b[1m148/148\u001b[0m \u001b[32m━━━━━━━━━━━━━━━━━━━━\u001b[0m\u001b[37m\u001b[0m \u001b[1m1s\u001b[0m 9ms/step - loss: 0.0020 - val_loss: 7.4668e-04\n"
     ]
    }
   ],
   "source": [
    "# Build the LSTM model\n",
    "model = Sequential()\n",
    "model.add(LSTM(units=50, return_sequences=True, input_shape=(X_train.shape[1], 1)))  # First LSTM layer\n",
    "model.add(Dropout(0.2))  # Dropout to prevent overfitting\n",
    "model.add(LSTM(units=50, return_sequences=False))  # Second LSTM layer\n",
    "model.add(Dropout(0.2))\n",
    "model.add(Dense(units=1))  # Output layer for regression\n",
    "\n",
    "# Compile the model\n",
    "model.compile(optimizer='adam', loss='mean_squared_error')\n",
    "\n",
    "# Train the model on the training data\n",
    "history = model.fit(X_train, Y_train, epochs=20, batch_size=32, validation_data=(X_test, Y_test))"
   ]
  },
  {
   "cell_type": "code",
   "execution_count": 188,
   "id": "e5ca334a",
   "metadata": {},
   "outputs": [
    {
     "name": "stdout",
     "output_type": "stream",
     "text": [
      "\u001b[1m148/148\u001b[0m \u001b[32m━━━━━━━━━━━━━━━━━━━━\u001b[0m\u001b[37m\u001b[0m \u001b[1m1s\u001b[0m 3ms/step\n",
      "\u001b[1m37/37\u001b[0m \u001b[32m━━━━━━━━━━━━━━━━━━━━\u001b[0m\u001b[37m\u001b[0m \u001b[1m0s\u001b[0m 2ms/step\n",
      "Train Mean Squared Error: 7.220798191454833\n",
      "Test Mean Squared Error: 3.1547057512477776\n"
     ]
    }
   ],
   "source": [
    "# Step 4: Make Predictions\n",
    "train_predict = model.predict(X_train)\n",
    "test_predict = model.predict(X_test)\n",
    "\n",
    "# Inverse transform to get actual case counts\n",
    "train_predict = scaler.inverse_transform(train_predict)\n",
    "test_predict = scaler.inverse_transform(test_predict)\n",
    "\n",
    "# Calculate Mean Squared Error\n",
    "train_mse = mean_squared_error(case_counts['case_count'].values[:train_size][30:], train_predict)\n",
    "test_mse = mean_squared_error(case_counts['case_count'].values[train_size:][30:], test_predict)\n",
    "\n",
    "print(f'Train Mean Squared Error: {train_mse}')\n",
    "print(f'Test Mean Squared Error: {test_mse}')"
   ]
  },
  {
   "cell_type": "code",
   "execution_count": 189,
   "id": "d4e940cc",
   "metadata": {
    "scrolled": true
   },
   "outputs": [
    {
     "data": {
      "image/png": "[encoded data removed]",
      "text/plain": [
       "<Figure size 1200x600 with 1 Axes>"
      ]
     },
     "metadata": {},
     "output_type": "display_data"
    }
   ],
   "source": [
    "# Plotting results\n",
    "plt.figure(figsize=(12, 6))\n",
    "plt.plot(case_counts['date'][:train_size], case_counts['case_count'][:train_size], label='Train Actual')\n",
    "plt.plot(case_counts['date'][train_size:], case_counts['case_count'][train_size:], label='Test Actual')\n",
    "plt.plot(case_counts['date'][30:train_size], train_predict, label='Train Predictions', linestyle='dashed')\n",
    "plt.plot(case_counts['date'][train_size+30:], test_predict, label='Test Predictions', linestyle='dashed')\n",
    "plt.title('Case Count Predictions')\n",
    "plt.xlabel('Date')\n",
    "plt.ylabel('Case Count')\n",
    "plt.legend()\n",
    "plt.show()"
   ]
  },
  {
   "cell_type": "code",
   "execution_count": null,
   "id": "f7830ea7",
   "metadata": {},
   "outputs": [],
   "source": []
  }
 ],
 "metadata": {
  "kernelspec": {
   "display_name": "Python 3 (ipykernel)",
   "language": "python",
   "name": "python3"
  },
  "language_info": {
   "codemirror_mode": {
    "name": "ipython",
    "version": 3
   },
   "file_extension": ".py",
   "mimetype": "text/x-python",
   "name": "python",
   "nbconvert_exporter": "python",
   "pygments_lexer": "ipython3",
   "version": "3.11.4"
  }
 },
 "nbformat": 4,
 "nbformat_minor": 5
}
